{
 "cells": [
  {
   "cell_type": "code",
   "execution_count": 1,
   "metadata": {},
   "outputs": [],
   "source": [
    "import numpy as np\n",
    "import matplotlib.pyplot as plt\n",
    "%matplotlib inline\n",
    "import cv2\n",
    "import os\n",
    "import os.path as osp\n",
    "import warnings\n",
    "warnings.simplefilter(action='ignore', category=FutureWarning)\n",
    "import pandas as pd"
   ]
  },
  {
   "cell_type": "code",
   "execution_count": 2,
   "metadata": {},
   "outputs": [],
   "source": [
    "def mkdirs(d):\n",
    "    if not osp.exists(d):\n",
    "        os.makedirs(d)"
   ]
  },
  {
   "cell_type": "code",
   "execution_count": 3,
   "metadata": {},
   "outputs": [],
   "source": [
    "img_dir = osp.join(\"data_raw\",\"img1\")\n",
    "dataset_dir = \"dataset\"\n",
    "annotations_dir = osp.join(dataset_dir, 'annotations')"
   ]
  },
  {
   "cell_type": "code",
   "execution_count": 4,
   "metadata": {},
   "outputs": [],
   "source": [
    "imgs = os.listdir(img_dir)\n",
    "imgs.sort()\n",
    "\n",
    "annotations = os.listdir(annotations_dir)\n",
    "annotations.sort()"
   ]
  },
  {
   "cell_type": "code",
   "execution_count": 5,
   "metadata": {},
   "outputs": [
    {
     "data": {
      "text/plain": [
       "(429, 429)"
      ]
     },
     "execution_count": 5,
     "metadata": {},
     "output_type": "execute_result"
    }
   ],
   "source": [
    "len(imgs),len(annotations)"
   ]
  },
  {
   "cell_type": "code",
   "execution_count": 6,
   "metadata": {},
   "outputs": [],
   "source": [
    "def xywh2xyxy(x,y,w,h):\n",
    "    x0 = x-w//2\n",
    "    y0 = y-h//2\n",
    "    x1 = x+w//2\n",
    "    y1 = y+h//2\n",
    "    return x0,y0,x1,y1"
   ]
  },
  {
   "cell_type": "code",
   "execution_count": 7,
   "metadata": {},
   "outputs": [],
   "source": [
    "df = pd.DataFrame(columns=['class','img_name'])"
   ]
  },
  {
   "cell_type": "code",
   "execution_count": 8,
   "metadata": {},
   "outputs": [],
   "source": [
    "def export_detection(annotation,img_name, image_dir,export_dir):\n",
    "    global df\n",
    "    img = cv2.imread(os.path.join(img_dir,img_name))\n",
    "    tid = int(annotation['id'])\n",
    "    final_dir = osp.join(export_dir,'imgs',str(tid))\n",
    "    \n",
    "    img_w = 1920\n",
    "    img_h = 1080\n",
    "\n",
    "    x = int(annotation['x']*(img_w))\n",
    "    y = int(annotation['y']*(img_h))\n",
    "    w = int(annotation['w']*(img_w))\n",
    "    h = int(annotation['h']*(img_h))\n",
    "\n",
    "    x0,y0,x1,y1 = xywh2xyxy(x,y,w,h)\n",
    "    crop = img[y0:y1,x0:x1] \n",
    "\n",
    "\n",
    "    mkdirs(final_dir)\n",
    "    cv2.imwrite(os.path.join(final_dir,img_name),crop)\n",
    "    df = df.append({'class':tid, 'img_name':img_name},ignore_index=True)\n",
    "\n",
    "    del img, crop\n"
   ]
  },
  {
   "cell_type": "code",
   "execution_count": 9,
   "metadata": {},
   "outputs": [],
   "source": [
    "for i, a in zip(imgs,annotations):\n",
    "    a_csv = pd.read_csv(osp.join(annotations_dir,a),names=['c','id','x','y','w','h'],delimiter=\" \")\n",
    "    a_csv.apply(lambda x: export_detection(x,i,img_dir,dataset_dir), axis=1)"
   ]
  },
  {
   "cell_type": "code",
   "execution_count": 10,
   "metadata": {},
   "outputs": [],
   "source": [
    "df.to_csv(osp.join(dataset_dir, 'data.csv'),index=False,header=None)"
   ]
  }
 ],
 "metadata": {
  "kernelspec": {
   "display_name": "Python 3.10.8 ('siv')",
   "language": "python",
   "name": "python3"
  },
  "language_info": {
   "codemirror_mode": {
    "name": "ipython",
    "version": 3
   },
   "file_extension": ".py",
   "mimetype": "text/x-python",
   "name": "python",
   "nbconvert_exporter": "python",
   "pygments_lexer": "ipython3",
   "version": "3.9.16"
  },
  "orig_nbformat": 4,
  "vscode": {
   "interpreter": {
    "hash": "c9c71ba83d9509be3e641d0bfc3c2b4ff64c3d1f38dab0db17242b2063feac14"
   }
  }
 },
 "nbformat": 4,
 "nbformat_minor": 2
}
