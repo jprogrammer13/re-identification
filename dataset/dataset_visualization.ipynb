{
 "cells": [
  {
   "cell_type": "code",
   "execution_count": 137,
   "id": "6531fde9-3190-49e6-a239-c839e0099fe3",
   "metadata": {},
   "outputs": [],
   "source": [
    "import numpy as np\n",
    "import matplotlib.pyplot as plt\n",
    "%matplotlib inline\n",
    "import cv2\n",
    "import os\n",
    "import pandas as pd"
   ]
  },
  {
   "cell_type": "code",
   "execution_count": 138,
   "id": "df1d1c4b-b18a-4f1e-9441-0d4b283b127a",
   "metadata": {},
   "outputs": [],
   "source": [
    "def xywh2xyxy(x,y,w,h):\n",
    "    x0 = x-w//2\n",
    "    y0 = y-h//2\n",
    "    x1 = x+w//2\n",
    "    y1 = y+h//2\n",
    "    return x0,y0,x1,y1"
   ]
  },
  {
   "cell_type": "code",
   "execution_count": 205,
   "id": "6da5981e-5fa8-445b-a9b9-642d965c045b",
   "metadata": {},
   "outputs": [],
   "source": [
    "def draw_label(img,tid,x,y,w,h,img_w,img_h,color):\n",
    "    img_draw = img.copy()\n",
    "    \n",
    "    x = int(x*(img_w))\n",
    "    y = int(y*(img_h))\n",
    "    w = int(w*(img_w))\n",
    "    h = int(h*(img_h))\n",
    "    \n",
    "    color = colors[int(tid)-1]\n",
    "    color = (int(color[0]),int(color[1]),int(color[2]))\n",
    "    \n",
    "    x0,y0,x1,y1 = xywh2xyxy(x,y,w,h)\n",
    "    \n",
    "    img_draw = cv2.rectangle(img_draw, (x0,y0), (x1,y1), color, 2)\n",
    "    img_draw = cv2.putText(img_draw, str(int(tid)), (x0,y0), cv2.FONT_HERSHEY_SIMPLEX, \n",
    "                   1, color, 2, cv2.LINE_AA)\n",
    "    return img_draw"
   ]
  },
  {
   "cell_type": "code",
   "execution_count": 206,
   "id": "78c978f2-3e53-4f6a-953a-fdb32df0dfb3",
   "metadata": {},
   "outputs": [],
   "source": [
    "img_dir = 'img1'\n",
    "final_dir = 'img_with_labes'\n",
    "data_dir = 'processed'\n",
    "\n",
    "img_w = 1920\n",
    "img_h = 1080"
   ]
  },
  {
   "cell_type": "code",
   "execution_count": 207,
   "id": "422ad999-7deb-4fc1-8116-0be5acbdc55b",
   "metadata": {},
   "outputs": [],
   "source": [
    "imgs = os.listdir(img_dir)\n",
    "imgs.sort()"
   ]
  },
  {
   "cell_type": "code",
   "execution_count": 208,
   "id": "16755429-fbb3-48d8-a86d-8e1d87e84428",
   "metadata": {},
   "outputs": [],
   "source": [
    "labels = os.listdir(data_dir)\n",
    "labels.sort()"
   ]
  },
  {
   "cell_type": "code",
   "execution_count": 209,
   "id": "76112df1-70bc-48da-a9d0-8566f9d124f3",
   "metadata": {},
   "outputs": [],
   "source": [
    "colors = np.random.uniform(0,255,size=(74,3)).astype(int)"
   ]
  },
  {
   "cell_type": "code",
   "execution_count": 210,
   "id": "433d719c-2574-4a56-a4a3-a113c6402867",
   "metadata": {},
   "outputs": [],
   "source": [
    "for i, l in zip(imgs,labels):\n",
    "    img = cv2.imread(os.path.join(img_dir,i))\n",
    "    label = pd.read_csv(os.path.join(data_dir,l),names=['c','id','x','y','w','h'],delimiter=\" \")\n",
    "    img_label = img.copy()\n",
    "    for bb in label.values:\n",
    "        img_label = draw_label(img_label,bb[1],bb[2],bb[3],bb[4],bb[5],img_w,img_h,colors)\n",
    "    cv2.imwrite(os.path.join(final_dir,i),img_label)"
   ]
  },
  {
   "cell_type": "code",
   "execution_count": null,
   "id": "f2431838-0180-4946-a910-0f375d582cfd",
   "metadata": {},
   "outputs": [],
   "source": []
  }
 ],
 "metadata": {
  "kernelspec": {
   "display_name": "Python 3 (ipykernel)",
   "language": "python",
   "name": "python3"
  },
  "language_info": {
   "codemirror_mode": {
    "name": "ipython",
    "version": 3
   },
   "file_extension": ".py",
   "mimetype": "text/x-python",
   "name": "python",
   "nbconvert_exporter": "python",
   "pygments_lexer": "ipython3",
   "version": "3.10.8"
  }
 },
 "nbformat": 4,
 "nbformat_minor": 5
}
